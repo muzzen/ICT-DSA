{
 "cells": [
  {
   "cell_type": "code",
   "execution_count": 1,
   "id": "d4e92c8f",
   "metadata": {},
   "outputs": [
    {
     "name": "stdin",
     "output_type": "stream",
     "text": [
      "Enter a string value:  assembly\n"
     ]
    },
    {
     "name": "stdout",
     "output_type": "stream",
     "text": [
      "a = 1, s = 2, e = 1, m = 1, b = 1, l = 1, y = 1, "
     ]
    }
   ],
   "source": [
    "#Problem-1\n",
    "\n",
    "str_value = input(\"Enter a string value: \")\n",
    "\n",
    "output = {}\n",
    "\n",
    "for i in str_value:\n",
    "    if i in output:\n",
    "        output[i] += 1\n",
    "    else:\n",
    "        output[i] = 1\n",
    "\n",
    "for key,value in output.items():\n",
    "    print(key,\"=\",value, end=\", \")"
   ]
  },
  {
   "cell_type": "code",
   "execution_count": 2,
   "id": "b5293c25",
   "metadata": {},
   "outputs": [
    {
     "name": "stdout",
     "output_type": "stream",
     "text": [
      "34\n"
     ]
    }
   ],
   "source": [
    "#Problem-2\n",
    "\n",
    "def maxThree(a,b,c):\n",
    "    \n",
    "    if (a>=b) and (a>=c):\n",
    "        maximum = a\n",
    "    elif (b>=a) and (b>=c):\n",
    "        maximum = b\n",
    "    else:\n",
    "        maximum = c\n",
    "    return maximum\n",
    "        \n",
    "print(maxThree(34,12,27))\n",
    "\n"
   ]
  },
  {
   "cell_type": "code",
   "execution_count": 3,
   "id": "c62c36a5",
   "metadata": {},
   "outputs": [
    {
     "name": "stdin",
     "output_type": "stream",
     "text": [
      "Enter the base: 2\n",
      "Enter the exponent: 3\n"
     ]
    },
    {
     "name": "stdout",
     "output_type": "stream",
     "text": [
      "Result = 8\n"
     ]
    }
   ],
   "source": [
    "#Problem-3\n",
    "\n",
    "def exponent():\n",
    "    base = int(input(\"Enter the base:\"))\n",
    "    exponent = int(input(\"Enter the exponent:\"))\n",
    "    print(\"Result\",(base ** exponent),sep=\" = \")\n",
    "\n",
    "exponent()\n"
   ]
  },
  {
   "cell_type": "code",
   "execution_count": 4,
   "id": "587b6bf3",
   "metadata": {},
   "outputs": [
    {
     "name": "stdout",
     "output_type": "stream",
     "text": [
      "36\n"
     ]
    }
   ],
   "source": [
    "#Problem-4\n",
    "\n",
    "def sumofcubes(i):\n",
    "    sumcube = 0\n",
    "    for i in range(1,i):\n",
    "        sumcube+=(i**3)\n",
    "    print(sumcube)\n",
    "\n",
    "sumofcubes(4)\n"
   ]
  },
  {
   "cell_type": "code",
   "execution_count": 5,
   "id": "4f99dbb6",
   "metadata": {},
   "outputs": [
    {
     "name": "stdout",
     "output_type": "stream",
     "text": [
      "1 Fizz 3 Fizz Buzz Fizz 7 Fizz 9 Fizz-Buzz "
     ]
    }
   ],
   "source": [
    "#Problem-5\n",
    "\n",
    "sample = range(1,11)\n",
    "for i in sample:\n",
    "    if (i%2==0) and (i%5!=0):\n",
    "        print(\"Fizz\", end=\" \")\n",
    "    elif (i%5==0) and (i%2!=0):\n",
    "        print(\"Buzz\", end=\" \")\n",
    "    elif (i%2==0) and (i%5==0):\n",
    "        print(\"Fizz-Buzz\", end=\" \")\n",
    "    else:\n",
    "        print(i, end=\" \")"
   ]
  },
  {
   "cell_type": "code",
   "execution_count": 6,
   "id": "e04d230a",
   "metadata": {},
   "outputs": [
    {
     "name": "stdout",
     "output_type": "stream",
     "text": [
      "2\n"
     ]
    }
   ],
   "source": [
    "#Problem-6\n",
    "\n",
    "sample = [2,3,4,2,5,2]\n",
    "\n",
    "counter = 0\n",
    "\n",
    "for i in sample:\n",
    "    freq = sample.count(i)\n",
    "    if (freq>counter):\n",
    "        counter = freq\n",
    "        numb = i\n",
    "\n",
    "print(numb)"
   ]
  },
  {
   "cell_type": "code",
   "execution_count": 7,
   "id": "f61508df",
   "metadata": {},
   "outputs": [
    {
     "name": "stdout",
     "output_type": "stream",
     "text": [
      "15\n"
     ]
    }
   ],
   "source": [
    "#Problem-7\n",
    "\n",
    "List = [2,1,3,1]\n",
    "\n",
    "sum = 0\n",
    "\n",
    "for i in List:\n",
    "    sum += (i**2)\n",
    "print(sum)"
   ]
  },
  {
   "cell_type": "code",
   "execution_count": 8,
   "id": "3c83fad4",
   "metadata": {},
   "outputs": [
    {
     "name": "stdout",
     "output_type": "stream",
     "text": [
      "1-Odd 2-Even 3-Odd 4-Even 5-Odd 6-Even 7-Odd 8-Even 9-Odd 10-Even 11-Odd 12-Even 13-Odd 14-Even 15-Odd "
     ]
    }
   ],
   "source": [
    "#Problem-8\n",
    "\n",
    "for i in range(1,16):\n",
    "    if (i%2==0):\n",
    "        print(i,\"Even\",sep=\"-\",end=\" \")\n",
    "    else:\n",
    "        print(i,\"Odd\",sep=\"-\",end=\" \")\n",
    "    "
   ]
  },
  {
   "cell_type": "code",
   "execution_count": 9,
   "id": "bf991982",
   "metadata": {},
   "outputs": [
    {
     "name": "stdout",
     "output_type": "stream",
     "text": [
      "5.0\n"
     ]
    }
   ],
   "source": [
    "#Problem-9\n",
    "\n",
    "def FtoC(Fahrenheit):\n",
    "    Celsius = ((Fahrenheit-32)/9)*5\n",
    "    return(Celsius)\n",
    "\n",
    "print(FtoC(41))"
   ]
  },
  {
   "cell_type": "code",
   "execution_count": 10,
   "id": "490d1c3a",
   "metadata": {},
   "outputs": [
    {
     "name": "stdin",
     "output_type": "stream",
     "text": [
      "Enter a positive integer:  3\n"
     ]
    },
    {
     "name": "stdout",
     "output_type": "stream",
     "text": [
      "Output: 6\n"
     ]
    }
   ],
   "source": [
    "#Problem-10\n",
    "\n",
    "num = int(input(\"Enter a positive integer: \"))\n",
    "\n",
    "\n",
    "def factorial(num):\n",
    "    fact = 1\n",
    "    for i in range(1,num+1):\n",
    "        fact = i*fact\n",
    "    print(\"Output:\",fact)\n",
    "\n",
    "factorial(num)\n",
    "\n",
    "    "
   ]
  }
 ],
 "metadata": {
  "kernelspec": {
   "display_name": "Python 3 (ipykernel)",
   "language": "python",
   "name": "python3"
  },
  "language_info": {
   "codemirror_mode": {
    "name": "ipython",
    "version": 3
   },
   "file_extension": ".py",
   "mimetype": "text/x-python",
   "name": "python",
   "nbconvert_exporter": "python",
   "pygments_lexer": "ipython3",
   "version": "3.11.3"
  }
 },
 "nbformat": 4,
 "nbformat_minor": 5
}
