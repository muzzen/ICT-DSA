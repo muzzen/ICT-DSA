{
 "cells": [
  {
   "cell_type": "code",
   "execution_count": 5,
   "id": "f04a0b53",
   "metadata": {},
   "outputs": [
    {
     "name": "stdout",
     "output_type": "stream",
     "text": [
      "Enter the radius: 45\n",
      "Area of the circle is 6364.285714285714\n"
     ]
    }
   ],
   "source": [
    "#Excercise 1\n",
    "#Find Area of a circle inputing the radius\n",
    "\n",
    "radius = float(input(\"Enter the radius:\"+\" \"))\n",
    "area = (22/7)*(radius**2)\n",
    "print(\"Area of the circle is\",area)"
   ]
  },
  {
   "cell_type": "code",
   "execution_count": 6,
   "id": "2bce7956",
   "metadata": {},
   "outputs": [
    {
     "name": "stdout",
     "output_type": "stream",
     "text": [
      "Enter the name: Md\n",
      "Enter the roll number: 4\n",
      "Enter the mark: 34\n",
      "Name: Md \n",
      "Roll number: 4 \n",
      "Mark: 34.0\n"
     ]
    }
   ],
   "source": [
    "#Excercise 2\n",
    "#List the details of a student\n",
    "\n",
    "name = input(\"Enter the name:\"+\" \")\n",
    "roll = int(input(\"Enter the roll number:\"+\" \"))\n",
    "mark = float(input(\"Enter the mark:\"+\" \"))\n",
    "print(\"Name:\", name, \"\\n\" \"Roll number:\", roll, \"\\n\" \"Mark:\", mark)"
   ]
  },
  {
   "cell_type": "code",
   "execution_count": 7,
   "id": "3534f54a",
   "metadata": {},
   "outputs": [
    {
     "name": "stdout",
     "output_type": "stream",
     "text": [
      "47\n"
     ]
    }
   ],
   "source": [
    "#Excercise 3\n",
    "# Find Largest number from the list\n",
    "\n",
    "sample = [12,3,47,10]\n",
    "\n",
    "x = 0\n",
    "for i in sample:\n",
    "    if i>x:\n",
    "        x = i\n",
    "print(x)\n"
   ]
  },
  {
   "cell_type": "code",
   "execution_count": 11,
   "id": "d075eaf2",
   "metadata": {},
   "outputs": [
    {
     "name": "stdout",
     "output_type": "stream",
     "text": [
      "Cu.Number:1 Pr.Number:0 Sum:1\n",
      "Cu.Number:2 Pr.Number:1 Sum:3\n",
      "Cu.Number:3 Pr.Number:2 Sum:5\n",
      "Cu.Number:4 Pr.Number:3 Sum:7\n",
      "Cu.Number:5 Pr.Number:4 Sum:9\n",
      "Cu.Number:6 Pr.Number:5 Sum:11\n",
      "Cu.Number:7 Pr.Number:6 Sum:13\n",
      "Cu.Number:8 Pr.Number:7 Sum:15\n",
      "Cu.Number:9 Pr.Number:8 Sum:17\n",
      "Cu.Number:10 Pr.Number:9 Sum:19\n"
     ]
    }
   ],
   "source": [
    "#Excercise 4\n",
    "#Find sum of current and previous numbers\n",
    "\n",
    "Num = list(range(1,11))\n",
    "pNum = 0\n",
    "for i in Num:\n",
    "    sum = pNum + i\n",
    "    print('Cu.Number:'+ str(i) + ' Pr.Number:' + str(pNum) + ' Sum:' + str(sum))\n",
    "    pNum=i"
   ]
  },
  {
   "cell_type": "code",
   "execution_count": 10,
   "id": "ceb3f347",
   "metadata": {},
   "outputs": [
    {
     "name": "stdout",
     "output_type": "stream",
     "text": [
      "10\n",
      "20\n",
      "55\n"
     ]
    }
   ],
   "source": [
    "#Excercise 5\n",
    "# Divisible by 5\n",
    "\n",
    "sample = [10,20,33,46,55]\n",
    "for i in sample:\n",
    "    if (i % 5==0):\n",
    "        print(i)"
   ]
  },
  {
   "cell_type": "code",
   "execution_count": 12,
   "id": "2ba058c0",
   "metadata": {},
   "outputs": [
    {
     "name": "stdout",
     "output_type": "stream",
     "text": [
      "Enter a Number:6\n",
      "6 is a prime number\n"
     ]
    }
   ],
   "source": [
    "#Excercise 6\n",
    "#Prime or not\n",
    "\n",
    "num = int(input(\"Enter a Number:\"))\n",
    "if (num%2==0):\n",
    "          print(num, \"is a prime number\")\n",
    "else:\n",
    "          print(num, \"is not a prime number\")\n"
   ]
  },
  {
   "cell_type": "code",
   "execution_count": 13,
   "id": "4244ce7a",
   "metadata": {},
   "outputs": [
    {
     "name": "stdout",
     "output_type": "stream",
     "text": [
      "[70, 30, 40, 10]\n"
     ]
    }
   ],
   "source": [
    "#Excercise 7\n",
    "#Reverse list using 'for' loop\n",
    "\n",
    "sample_list = [10,40,30,70]\n",
    "\n",
    "reverse_list = []\n",
    "\n",
    "for i in sample_list:\n",
    "    reverse_list = [i] + reverse_list\n",
    "print(reverse_list)"
   ]
  },
  {
   "cell_type": "code",
   "execution_count": 21,
   "id": "e64c54f3",
   "metadata": {},
   "outputs": [
    {
     "name": "stdout",
     "output_type": "stream",
     "text": [
      "\n",
      "\n",
      "* \n",
      "\n",
      "* * \n",
      "\n",
      "* * * \n",
      "\n",
      "* * * * \n",
      "\n"
     ]
    }
   ],
   "source": [
    "#Excercise 8\n",
    "#Print the pattern\n",
    "\n",
    "t=0\n",
    "while (t<=4):\n",
    "    print('* '*t+'\\n')\n",
    "    t+=1"
   ]
  },
  {
   "cell_type": "code",
   "execution_count": 23,
   "id": "d00d84f4",
   "metadata": {},
   "outputs": [
    {
     "name": "stdout",
     "output_type": "stream",
     "text": [
      "50\n"
     ]
    }
   ],
   "source": [
    "#Excercise 9\n",
    "#Maximum number of three\n",
    "\n",
    "sam = [34,50,7]\n",
    "\n",
    "n=0\n",
    "max=0\n",
    "if (sam[0]>=sam[1]) and (sam[0]>=sam[2]):\n",
    "    max = sam[0]\n",
    "elif (sam[1]>=sam[0]) and (sam[1]>=sam[2]):\n",
    "    max = sam[1]\n",
    "else:\n",
    "    max = sam[2]\n",
    "print(max)"
   ]
  },
  {
   "cell_type": "code",
   "execution_count": 24,
   "id": "2263e4d3",
   "metadata": {},
   "outputs": [
    {
     "name": "stdout",
     "output_type": "stream",
     "text": [
      "* \n",
      "\n",
      "* * \n",
      "\n",
      "* * * \n",
      "\n",
      "* * * * \n",
      "\n",
      "* * * * * \n",
      "\n",
      "* * * * \n",
      "\n",
      "* * * \n",
      "\n",
      "* * \n",
      "\n",
      "* \n",
      "\n",
      "\n",
      "\n"
     ]
    }
   ],
   "source": [
    "#Excercise 10\n",
    "#Print the pattern using nested loop\n",
    "\n",
    "for i in range(0,5):\n",
    "    for j in range(i+1):\n",
    "        print(\"*\", end=\" \")\n",
    "    print(\"\\n\")\n",
    "for i in range(5,0,-1):\n",
    "    for j in range(i-1):\n",
    "        print(\"*\", end=\" \")\n",
    "    print(\"\\n\")\n"
   ]
  }
 ],
 "metadata": {
  "kernelspec": {
   "display_name": "Python 3 (ipykernel)",
   "language": "python",
   "name": "python3"
  },
  "language_info": {
   "codemirror_mode": {
    "name": "ipython",
    "version": 3
   },
   "file_extension": ".py",
   "mimetype": "text/x-python",
   "name": "python",
   "nbconvert_exporter": "python",
   "pygments_lexer": "ipython3",
   "version": "3.11.3"
  }
 },
 "nbformat": 4,
 "nbformat_minor": 5
}
