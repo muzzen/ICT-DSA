{
 "cells": [
  {
   "cell_type": "markdown",
   "id": "c094c422-5333-4bf4-9312-74e6b8d3a0fe",
   "metadata": {},
   "source": [
    "# Statistics Assignment"
   ]
  },
  {
   "cell_type": "code",
   "execution_count": 1,
   "id": "20918a2f-c007-4319-be97-a37935a99c4e",
   "metadata": {},
   "outputs": [],
   "source": [
    "import pandas as pd\n",
    "from scipy.stats import ttest_ind\n",
    "from scipy.stats import chi2_contingency"
   ]
  },
  {
   "cell_type": "markdown",
   "id": "d9640cb9-e52c-4de7-86f0-42034e833aea",
   "metadata": {},
   "source": [
    "## Case Study on Testing of Hypothesis"
   ]
  },
  {
   "cell_type": "markdown",
   "id": "e47e84df-dc80-48a1-878d-03b6d5eae0bf",
   "metadata": {},
   "source": [
    "A Company started to invest in digital marketing as a new way of their product promotions. For that they collected data and decided to carry out a study on it."
   ]
  },
  {
   "cell_type": "code",
   "execution_count": 2,
   "id": "1aa01b8b-5593-437f-838b-10d9811629ca",
   "metadata": {},
   "outputs": [],
   "source": [
    "sales = pd.read_csv('Sales_add.csv')"
   ]
  },
  {
   "cell_type": "code",
   "execution_count": 3,
   "id": "99c57bf7-9f2d-4cc0-be76-af99e15010b7",
   "metadata": {},
   "outputs": [
    {
     "data": {
      "text/html": [
       "<div>\n",
       "<style scoped>\n",
       "    .dataframe tbody tr th:only-of-type {\n",
       "        vertical-align: middle;\n",
       "    }\n",
       "\n",
       "    .dataframe tbody tr th {\n",
       "        vertical-align: top;\n",
       "    }\n",
       "\n",
       "    .dataframe thead th {\n",
       "        text-align: right;\n",
       "    }\n",
       "</style>\n",
       "<table border=\"1\" class=\"dataframe\">\n",
       "  <thead>\n",
       "    <tr style=\"text-align: right;\">\n",
       "      <th></th>\n",
       "      <th>Month</th>\n",
       "      <th>Region</th>\n",
       "      <th>Manager</th>\n",
       "      <th>Sales_before_digital_add(in $)</th>\n",
       "      <th>Sales_After_digital_add(in $)</th>\n",
       "    </tr>\n",
       "  </thead>\n",
       "  <tbody>\n",
       "    <tr>\n",
       "      <th>0</th>\n",
       "      <td>Month-1</td>\n",
       "      <td>Region - A</td>\n",
       "      <td>Manager - A</td>\n",
       "      <td>132921</td>\n",
       "      <td>270390</td>\n",
       "    </tr>\n",
       "    <tr>\n",
       "      <th>1</th>\n",
       "      <td>Month-2</td>\n",
       "      <td>Region - A</td>\n",
       "      <td>Manager - C</td>\n",
       "      <td>149559</td>\n",
       "      <td>223334</td>\n",
       "    </tr>\n",
       "    <tr>\n",
       "      <th>2</th>\n",
       "      <td>Month-3</td>\n",
       "      <td>Region - B</td>\n",
       "      <td>Manager - A</td>\n",
       "      <td>146278</td>\n",
       "      <td>244243</td>\n",
       "    </tr>\n",
       "  </tbody>\n",
       "</table>\n",
       "</div>"
      ],
      "text/plain": [
       "     Month      Region      Manager  Sales_before_digital_add(in $)  \\\n",
       "0  Month-1  Region - A  Manager - A                          132921   \n",
       "1  Month-2  Region - A  Manager - C                          149559   \n",
       "2  Month-3  Region - B  Manager - A                          146278   \n",
       "\n",
       "   Sales_After_digital_add(in $)  \n",
       "0                         270390  \n",
       "1                         223334  \n",
       "2                         244243  "
      ]
     },
     "execution_count": 3,
     "metadata": {},
     "output_type": "execute_result"
    }
   ],
   "source": [
    "sales.head(3)"
   ]
  },
  {
   "cell_type": "markdown",
   "id": "6b3f19d2-ecbf-402b-976b-d71b5d67c72d",
   "metadata": {},
   "source": [
    "**1.** The company wishes to clarify wheather there is any increase in sales after stepping into dgital marketing."
   ]
  },
  {
   "cell_type": "markdown",
   "id": "50548249-5271-4655-a3cf-13ca0f47aafb",
   "metadata": {},
   "source": [
    "Here the sample is less than 30, so here performing T-test would be suitable"
   ]
  },
  {
   "cell_type": "code",
   "execution_count": 7,
   "id": "4f21a38b-cfe1-46ba-ade0-22fa9032c323",
   "metadata": {},
   "outputs": [],
   "source": [
    "# Consider H0 as there no increase in sales, and Ha as there is increase in sales\n",
    "# Consider null hypothesis as there is no increase in the sales\n",
    "\n",
    "t,pv = ttest_ind(sales['Sales_before_digital_add(in $)'],sales['Sales_After_digital_add(in $)'])"
   ]
  },
  {
   "cell_type": "code",
   "execution_count": 6,
   "id": "955c8d70-ff5d-44c1-af2c-04ed8be8ec26",
   "metadata": {},
   "outputs": [
    {
     "name": "stdout",
     "output_type": "stream",
     "text": [
      "Reject Null Hypothesis\n"
     ]
    }
   ],
   "source": [
    "# Checking the condition using the 'probability value' taking alpha=0.05\n",
    "if pv<0.05:\n",
    "    print('Reject Null Hypothesis')\n",
    "else:\n",
    "    print('Accept Null Hypothesis')"
   ]
  },
  {
   "cell_type": "markdown",
   "id": "404a11a2-5231-4945-9d4f-74fbf2fb2ab6",
   "metadata": {},
   "source": [
    "**Response:** The test result shows to reject null hypotheis $H_{0}$, which shows us that *there is increase in sales after the company moved into digital marketing*"
   ]
  },
  {
   "cell_type": "markdown",
   "id": "019b71f1-9316-42fa-bd9a-45088867f5e0",
   "metadata": {},
   "source": [
    "**2.** The company needs to check wheather there is any dependency between the features \"Region\" and \"Manager\""
   ]
  },
  {
   "cell_type": "code",
   "execution_count": 10,
   "id": "fd6395a3-965d-4acf-8b99-c735a0c7d7a0",
   "metadata": {},
   "outputs": [],
   "source": [
    "# As the columns 'Region' and 'Sales' contain categorical\n",
    "# We have to convert the values suitable for the test analysis\n",
    "data = pd.crosstab(sales['Region'],sales['Manager'])\n",
    "\n",
    "# Perform the chi2test\n",
    "chi, p_v,_,_ = chi2_contingency(data)"
   ]
  },
  {
   "cell_type": "code",
   "execution_count": 11,
   "id": "85937771-c89f-4fe6-a753-7efd5222bce9",
   "metadata": {},
   "outputs": [
    {
     "name": "stdout",
     "output_type": "stream",
     "text": [
      "Accepting Independence\n"
     ]
    }
   ],
   "source": [
    "# Checking the condition using the 'probability value' taking alpha=0.05\n",
    "\n",
    "if p_v<0.05:\n",
    "    print(\"Rejecting Independence\")\n",
    "else:\n",
    "    print(\"Accepting Independence\")\n"
   ]
  },
  {
   "cell_type": "markdown",
   "id": "ea24e08b-07f4-4588-9543-7af8e9fd4051",
   "metadata": {},
   "source": [
    "**Response:** *Here after performing $\\chi^{2}$* test of indpendence which accept Null Hypothesis, i.e. It shows us that \"Region\" and \"Manager\" are independent each other."
   ]
  }
 ],
 "metadata": {
  "kernelspec": {
   "display_name": "Python 3 (ipykernel)",
   "language": "python",
   "name": "python3"
  },
  "language_info": {
   "codemirror_mode": {
    "name": "ipython",
    "version": 3
   },
   "file_extension": ".py",
   "mimetype": "text/x-python",
   "name": "python",
   "nbconvert_exporter": "python",
   "pygments_lexer": "ipython3",
   "version": "3.8.10"
  }
 },
 "nbformat": 4,
 "nbformat_minor": 5
}
